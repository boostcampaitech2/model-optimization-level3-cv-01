{
 "cells": [
  {
   "cell_type": "markdown",
   "metadata": {},
   "source": [
    "## Setting\n"
   ]
  },
  {
   "cell_type": "code",
   "execution_count": null,
   "metadata": {},
   "outputs": [],
   "source": [
    "from src.model import Model\n",
    "import torch\n",
    "import torch.nn as nn\n",
    "\n",
    "import os\n",
    "import numpy as np\n",
    "import tensorly as tl\n",
    "from tensorly.decomposition import parafac, partial_tucker\n",
    "from decomposition.decompositions import cp_decomposition_conv_layer, estimate_ranks, tucker_decomposition_conv_layer\n",
    "from ptflops import get_model_complexity_info\n",
    "from torchsummary import summary"
   ]
  },
  {
   "cell_type": "code",
   "execution_count": null,
   "metadata": {},
   "outputs": [],
   "source": [
    "# switch to the PyTorch backend\n",
    "tl.set_backend('pytorch')\n",
    "\n",
    "device = torch.device(\"cuda\" if torch.cuda.is_available() else \"cpu\")"
   ]
  },
  {
   "cell_type": "code",
   "execution_count": null,
   "metadata": {},
   "outputs": [],
   "source": [
    "#mse error\n",
    "def get_mse(src, tgt) -> float:\n",
    "  \"\"\"Calc mse.\"\"\"\n",
    "  if isinstance(src, torch.Tensor):\n",
    "    return torch.mean((src - tgt)**2)\n",
    "  elif isinstance(src, np.ndarray):\n",
    "    return np.mean((src - tgt)**2)\n",
    "\n",
    "#model complexity\n",
    "def print_macs(layer: nn.Module,ch,row,col):\n",
    "    macs, params = get_model_complexity_info(layer, tuple([ch,row,col]), as_strings=True,\n",
    "                                           print_per_layer_stat=True, verbose=True)\n",
    "    print('{:<30}  {:<8}'.format('Computational complexity: ', macs))\n",
    "    print('{:<30}  {:<8}'.format('Number of parameters: ', params))"
   ]
  },
  {
   "cell_type": "markdown",
   "metadata": {},
   "source": [
    "## Model"
   ]
  },
  {
   "cell_type": "code",
   "execution_count": null,
   "metadata": {},
   "outputs": [],
   "source": [
    "model_path = '/opt/ml/code/exp/latest/best.pt'\n",
    "model_config = '/opt/ml/code/exp/latest/model.yml'"
   ]
  },
  {
   "cell_type": "code",
   "execution_count": null,
   "metadata": {},
   "outputs": [],
   "source": [
    "model_instance = Model(model_config, verbose=True)\n",
    "model_instance.model.load_state_dict(\n",
    "    torch.load(model_path, map_location=torch.device(\"cpu\"))\n",
    ")\n",
    "model = model_instance.model\n",
    "#print_macs(model,3,512,512)\n",
    "model = model.to('cpu')"
   ]
  },
  {
   "cell_type": "code",
   "execution_count": null,
   "metadata": {},
   "outputs": [],
   "source": [
    "model"
   ]
  },
  {
   "cell_type": "code",
   "execution_count": null,
   "metadata": {},
   "outputs": [],
   "source": [
    "print_macs(model,3,512,512)"
   ]
  },
  {
   "cell_type": "markdown",
   "metadata": {
    "tags": []
   },
   "source": [
    "## Tucker Decomposition"
   ]
  },
  {
   "cell_type": "code",
   "execution_count": null,
   "metadata": {},
   "outputs": [],
   "source": [
    "#rank = [8,8]\n",
    "rank = [0.2]\n",
    "for i, module in enumerate(model.children()):\n",
    "    if i == 0 or i == 16 or i == 18:\n",
    "        module.conv = tucker_decomposition_conv_layer(module.conv,rank)\n",
    "    elif 1<=i<=15:\n",
    "        sub_layer = []\n",
    "        \n",
    "        for child_module in module[0].conv.children():\n",
    "            if 'Squeeze' in str(type(child_module)):\n",
    "                child_module.fc1 = tucker_decomposition_conv_layer(child_module.fc1,rank)\n",
    "                child_module.fc2 = tucker_decomposition_conv_layer(child_module.fc2,rank)\n",
    "                sub_layer.append(child_module)\n",
    "            elif type(child_module) == nn.Conv2d:\n",
    "                sub_layer.append(tucker_decomposition_conv_layer(child_module,rank))\n",
    "            else:\n",
    "                sub_layer.append(child_module)\n",
    "        module[0].conv = nn.Sequential(*sub_layer)"
   ]
  },
  {
   "cell_type": "code",
   "execution_count": null,
   "metadata": {},
   "outputs": [],
   "source": [
    "model"
   ]
  },
  {
   "cell_type": "code",
   "execution_count": null,
   "metadata": {},
   "outputs": [],
   "source": [
    "print_macs(model,3,512,512)"
   ]
  },
  {
   "cell_type": "code",
   "execution_count": null,
   "metadata": {},
   "outputs": [],
   "source": [
    "#save model\n",
    "from src.utils.torch_utils import save_model\n",
    "path = '/opt/ml/code/exp/latest_decom'\n",
    "if not os.path.exists(path):\n",
    "    os.mkdir(path)\n",
    "save_model(model=model,path='/opt/ml/code/exp/latest_decom/best.pt',data=None,device=None)"
   ]
  },
  {
   "cell_type": "code",
   "execution_count": null,
   "metadata": {},
   "outputs": [],
   "source": [
    "from PIL import Image\n",
    "import matplotlib.pyplot as plt\n",
    "im = np.array(Image.open('/opt/ml/data/test/NoLabel/00abmaytwoknyzdcatlabwpr.jpg'), dtype = np.uint8)\n",
    "fig, ax = plt.subplots(1,1,figsize=(10,10))\n",
    "ax.imshow(im)\n",
    "im = torch.Tensor(im).permute(2,0,1).unsqueeze(0)\n",
    "print(im.shape)\n",
    "im = im.to(device)"
   ]
  },
  {
   "cell_type": "code",
   "execution_count": null,
   "metadata": {},
   "outputs": [],
   "source": [
    "m = nn.Sequential(\n",
    "    nn.Conv2d(3,10,3),\n",
    "    nn.BatchNorm1d(10),\n",
    "    nn.ReLU(),\n",
    "    nn.Conv2d(10,3,3),\n",
    "    nn.ReLU()\n",
    ")"
   ]
  },
  {
   "cell_type": "code",
   "execution_count": null,
   "metadata": {},
   "outputs": [],
   "source": [
    "layers = []"
   ]
  },
  {
   "cell_type": "code",
   "execution_count": null,
   "metadata": {},
   "outputs": [],
   "source": [
    "for key in m:\n",
    "    if type(key) == nn.Conv2d:\n",
    "        layers.append(tucker_decomposition_conv_layer(key))\n",
    "    else:\n",
    "        layers.append(key)"
   ]
  },
  {
   "cell_type": "code",
   "execution_count": null,
   "metadata": {},
   "outputs": [],
   "source": [
    "m.add_module('new',nn.ReLU())"
   ]
  },
  {
   "cell_type": "code",
   "execution_count": null,
   "metadata": {},
   "outputs": [],
   "source": [
    "m.state_dict"
   ]
  },
  {
   "cell_type": "code",
   "execution_count": null,
   "metadata": {},
   "outputs": [],
   "source": [
    "for key in m:\n",
    "    print(key)\n",
    "    if type(key) == nn.Conv2d:\n",
    "        key = nn.ReLU()\n",
    "\n",
    "for key in m:\n",
    "    print(key)"
   ]
  },
  {
   "cell_type": "code",
   "execution_count": null,
   "metadata": {},
   "outputs": [],
   "source": [
    "for i in dd:\n",
    "    print(i)\n",
    "    #print(d[i])\n",
    "    #break"
   ]
  },
  {
   "cell_type": "code",
   "execution_count": null,
   "metadata": {},
   "outputs": [],
   "source": [
    "for key in m:\n",
    "    print(key.weight)\n",
    "    break"
   ]
  },
  {
   "cell_type": "code",
   "execution_count": null,
   "metadata": {},
   "outputs": [],
   "source": [
    "for key in m:\n",
    "    print(key)\n",
    "    if type(key) == nn.Conv2d:\n",
    "        print(key.weight)\n",
    "        key.weight[0][0][0][0] = 0\n",
    "        \n"
   ]
  }
 ],
 "metadata": {
  "kernelspec": {
   "display_name": "lightweight",
   "language": "python",
   "name": "lightweight"
  },
  "language_info": {
   "codemirror_mode": {
    "name": "ipython",
    "version": 3
   },
   "file_extension": ".py",
   "mimetype": "text/x-python",
   "name": "python",
   "nbconvert_exporter": "python",
   "pygments_lexer": "ipython3",
   "version": "3.7.11"
  }
 },
 "nbformat": 4,
 "nbformat_minor": 4
}
